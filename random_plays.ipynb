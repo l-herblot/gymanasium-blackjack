{
 "cells": [
  {
   "cell_type": "code",
   "execution_count": 1,
   "id": "35810c1c-c10e-4cef-b448-3d8507b5d6b0",
   "metadata": {},
   "outputs": [],
   "source": [
    "# Author: Till Zemann\n",
    "# License: MIT License\n",
    "\n",
    "# https://gymnasium.farama.org/tutorials/training_agents/blackjack_tutorial/\n",
    "# https://gymnasium.farama.org/environments/toy_text/blackjack/\n",
    "\n",
    "from __future__ import annotations\n",
    "\n",
    "from collections import defaultdict\n",
    "\n",
    "import matplotlib.pyplot as plt\n",
    "import numpy as np\n",
    "import seaborn as sns\n",
    "from matplotlib.patches import Patch\n",
    "from tqdm import tqdm\n",
    "\n",
    "import gymnasium as gym\n",
    "\n",
    "env = gym.make(\"Blackjack-v1\", sab=True)"
   ]
  },
  {
   "cell_type": "code",
   "execution_count": 2,
   "id": "8a2f9579-187e-4b65-bee2-a90f752f33db",
   "metadata": {},
   "outputs": [
    {
     "name": "stdout",
     "output_type": "stream",
     "text": [
      "--------------------------------------------------------------------------------\n",
      "(9, 10, 0)\n",
      "1\n",
      "new observation : (19, 10, 0)\n",
      "reward : 0.0\n",
      "terminated : False\n",
      "{}\n",
      "--------------------------------------------------------------------------------\n",
      "--------------------------------------------------------------------------------\n",
      "(19, 10, 0)\n",
      "1\n",
      "new observation : (28, 10, 0)\n",
      "reward : -1.0\n",
      "terminated : True\n",
      "{}\n",
      "--------------------------------------------------------------------------------\n"
     ]
    }
   ],
   "source": [
    "# reset the environment to get the first observation\n",
    "done = False\n",
    "observation, info = env.reset()\n",
    "\n",
    "while not done:\n",
    "    print(\"-\" * 80)\n",
    "    print(observation)\n",
    "    # player, dealer, ace\n",
    "    action = env.action_space.sample()\n",
    "    print(action)\n",
    "    # 0 : stand or 1 : hit\n",
    "    observation, reward, terminated, truncated, info = env.step(action)\n",
    "    print(\"new observation : %s\" % str(observation))\n",
    "    print(\"reward : %s\" % str(reward))\n",
    "    print(\"terminated : %s\" % str(terminated))\n",
    "    print(info)\n",
    "    print(\"-\" * 80)\n",
    "    if terminated:\n",
    "        done = True"
   ]
  },
  {
   "cell_type": "code",
   "execution_count": 3,
   "id": "4d902a3d-0389-4c0f-9e5f-b27763aed0e3",
   "metadata": {},
   "outputs": [
    {
     "name": "stdout",
     "output_type": "stream",
     "text": [
      "{1: 25, 0: 2, -1: 73}\n"
     ]
    }
   ],
   "source": [
    "res = {\n",
    "    1: 0,\n",
    "    0: 0,\n",
    "    -1: 0\n",
    "    }\n",
    "\n",
    "for episode in range(100):\n",
    "    # print(\"-\" * 80)\n",
    "    obs, info = env.reset()\n",
    "    done = False\n",
    "    while not done:\n",
    "        action = env.action_space.sample()\n",
    "        next_obs, reward, terminated, truncated, info = env.step(action)\n",
    "        done = terminated or truncated\n",
    "        if done:\n",
    "            # print(reward)\n",
    "            res[reward] += 1\n",
    "        obs = next_obs\n",
    "    # print(\"-\" * 80)\n",
    "\n",
    "print(res)"
   ]
  }
 ],
 "metadata": {
  "kernelspec": {
   "display_name": "Python 3 (ipykernel)",
   "language": "python",
   "name": "python3"
  },
  "language_info": {
   "codemirror_mode": {
    "name": "ipython",
    "version": 3
   },
   "file_extension": ".py",
   "mimetype": "text/x-python",
   "name": "python",
   "nbconvert_exporter": "python",
   "pygments_lexer": "ipython3",
   "version": "3.8.10"
  }
 },
 "nbformat": 4,
 "nbformat_minor": 5
}
